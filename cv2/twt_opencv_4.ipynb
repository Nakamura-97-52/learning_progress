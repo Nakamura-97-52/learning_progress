{
 "cells": [
  {
   "cell_type": "code",
   "execution_count": 11,
   "metadata": {},
   "outputs": [
    {
     "ename": "",
     "evalue": "",
     "output_type": "error",
     "traceback": [
      "\u001b[1;31mThe Kernel crashed while executing code in the the current cell or a previous cell. Please review the code in the cell(s) to identify a possible cause of the failure. Click <a href='https://aka.ms/vscodeJupyterKernelCrash'>here</a> for more info. View Jupyter <a href='command:jupyter.viewOutput'>log</a> for further details."
     ]
    }
   ],
   "source": [
    "import numpy as np\n",
    "import cv2\n",
    "\n",
    "\n",
    "cap = cv2.VideoCapture('assets/test2.mp4')\n",
    "\n",
    "while True:\n",
    "    _, frame = cap.read()\n",
    "    #cap.get lets us get 18 properties that it has, 3 for width, 4 for height\n",
    "    #we convert the value to int, cause origin value that cap.get returns was fractional\n",
    "    width = int(cap.get(3))\n",
    "    height = int(cap.get(4))\n",
    "    \n",
    "    #draw a line, coordinates onto which line will be drawed,color of the line(rgb),thickness\n",
    "    img = cv2.line(frame,(0,0),(width,height),(255,0,0),5)\n",
    "    img = cv2.line(img,(width,0),(0,height),(255,255,0),5)\n",
    "    #draw a rectangle, coordinates of left hand top and right hand bottom, color,thickness/fill,\n",
    "    img = cv2.rectangle(img,(100,100),(200,200),(255,255,0),-1)\n",
    "    #draw a circle, a coordinate of center of the circle, radious, color, thickness/fill\n",
    "    img = cv2.circle(img,(700,100),70,(0,255,0),-1)\n",
    "    #put a text into the image, font should be declared,\n",
    "    font = cv2.FONT_HERSHEY_SIMPLEX\n",
    "    #put a text into the image, a coordinate at the left hand bottom of text,font,scale(magnitude),color,thickness,text how it's rendered(there is a recommended value)\n",
    "    img = cv2.putText(img,'Cooooool',(10,height - 10),font,2,(0,0,0),3,cv2.LINE_AA)\n",
    "    cv2.imshow('frame',img)\n",
    "    \n",
    "    if cv2.waitKey(1) == ord('q'):\n",
    "        break\n",
    "\n",
    "cap.release()\n",
    "cv2.destroyAllWindows()"
   ]
  },
  {
   "cell_type": "code",
   "execution_count": null,
   "metadata": {},
   "outputs": [],
   "source": []
  }
 ],
 "metadata": {
  "kernelspec": {
   "display_name": "cv2",
   "language": "python",
   "name": "cv2"
  },
  "language_info": {
   "codemirror_mode": {
    "name": "ipython",
    "version": 3
   },
   "file_extension": ".py",
   "mimetype": "text/x-python",
   "name": "python",
   "nbconvert_exporter": "python",
   "pygments_lexer": "ipython3",
   "version": "3.10.4"
  },
  "orig_nbformat": 4,
  "vscode": {
   "interpreter": {
    "hash": "b8ea13c29878e4a39435767f327177de9f64ae4002c06647ef3edc6b87ba1eab"
   }
  }
 },
 "nbformat": 4,
 "nbformat_minor": 2
}
