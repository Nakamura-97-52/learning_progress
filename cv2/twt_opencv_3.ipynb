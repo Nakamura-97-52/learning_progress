{
 "cells": [
  {
   "cell_type": "code",
   "execution_count": 8,
   "metadata": {},
   "outputs": [],
   "source": [
    "import numpy as np\n",
    "import cv2\n",
    "\n",
    "\n",
    "cap = cv2.VideoCapture('test2.mp4')\n",
    "\n",
    "while True:\n",
    "    _, frame = cap.read()\n",
    "    #cap.get lets us get 18 properties that it has, 3 for width, 4 for height\n",
    "    #we convert the value to int, cause origin value that cap.get returns was fractional\n",
    "    width = int(cap.get(3))\n",
    "    height = int(cap.get(4))\n",
    "    #create a campus \n",
    "    image = np.zeros(frame.shape, np.uint8)\n",
    "    #ord asq means a table represents all the number of keyboard\n",
    "    #if you pressed q, meaning 130 or 140 on that table\n",
    "    #cv2.waitkey takes any number of keyboard, if that number == q or whasoever\n",
    "    # break out the loop\n",
    "    small_image = cv2.resize(frame,(0,0), fx = 0.5,fy = 0.5)\n",
    "    image[:height//2,:width//2]  = small_image\n",
    "    image[height//2:,:width//2]  = small_image\n",
    "    image[:height//2,width//2:]  = small_image\n",
    "    image[height//2:,width//2:]  = small_image\n",
    "    \n",
    "    cv2.imshow('frame',image)\n",
    "    \n",
    "    if cv2.waitKey(1) == ord('q'):\n",
    "        break\n",
    "\n",
    "cap.release()\n",
    "cv2.destroyAllWindows()"
   ]
  },
  {
   "cell_type": "code",
   "execution_count": null,
   "metadata": {},
   "outputs": [],
   "source": [
    " "
   ]
  },
  {
   "cell_type": "code",
   "execution_count": null,
   "metadata": {},
   "outputs": [],
   "source": []
  }
 ],
 "metadata": {
  "kernelspec": {
   "display_name": "cv2",
   "language": "python",
   "name": "cv2"
  },
  "language_info": {
   "codemirror_mode": {
    "name": "ipython",
    "version": 3
   },
   "file_extension": ".py",
   "mimetype": "text/x-python",
   "name": "python",
   "nbconvert_exporter": "python",
   "pygments_lexer": "ipython3",
   "version": "3.10.4"
  },
  "orig_nbformat": 4
 },
 "nbformat": 4,
 "nbformat_minor": 2
}
