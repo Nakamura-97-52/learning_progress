{
 "cells": [
  {
   "cell_type": "code",
   "execution_count": 28,
   "metadata": {},
   "outputs": [
    {
     "name": "stdout",
     "output_type": "stream",
     "text": [
      "(14093236449619608104, 47, 60) 'and what is the use of a book,' thought Alice\n"
     ]
    }
   ],
   "source": [
    "import spacy\n",
    "from spacy.matcher import Matcher\n",
    "import json\n",
    "\n",
    "nlp = spacy.load(\"en_core_web_sm\")\n",
    "\n",
    "matcher = Matcher(nlp.vocab)\n",
    "with open(\"data/alice.json\") as f:\n",
    "    data = json.load(f)\n",
    "    \n",
    "text = data[0][2][0].replace( \"`\", \"'\")\n",
    "\n",
    "lemme = [\"think\",\"say\"]\n",
    "patterns = [{'ORTH': \"'\"},\n",
    "           {'IS_ALPHA': True, \"OP\": \"+\"}, \n",
    "           {'IS_PUNCT': True, \"OP\": \"*\"},\n",
    "           {'ORTH': \"'\"},\n",
    "           {\"POS\":\"VERB\",\"LEMMA\":{\"IN\":lemme}},\n",
    "           {\"POS\":\"PROPN\",\"OP\":\"+\"}\n",
    "           ]\n",
    "matcher.add(\"SENTENCE\",[patterns],greedy = \"LONGEST\")\n",
    "doc = nlp(text)\n",
    "matches = matcher(doc)\n",
    "matches.sort(key= lambda)\n",
    "for match in matches:\n",
    "    print(match, doc[match[1]:match[2]])\n",
    "\n",
    "\n",
    "\n"
   ]
  },
  {
   "cell_type": "code",
   "execution_count": null,
   "metadata": {},
   "outputs": [],
   "source": []
  }
 ],
 "metadata": {
  "kernelspec": {
   "display_name": "venv",
   "language": "python",
   "name": "venv"
  },
  "language_info": {
   "name": "python",
   "version": "3.10.4"
  },
  "orig_nbformat": 4
 },
 "nbformat": 4,
 "nbformat_minor": 2
}
