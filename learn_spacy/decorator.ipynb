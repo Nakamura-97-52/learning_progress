{
 "cells": [
  {
   "cell_type": "code",
   "execution_count": null,
   "metadata": {},
   "outputs": [],
   "source": []
  },
  {
   "cell_type": "code",
   "execution_count": 42,
   "metadata": {},
   "outputs": [
    {
     "name": "stdout",
     "output_type": "stream",
     "text": [
      "before\n",
      "3\n",
      "9\n",
      "after\n"
     ]
    },
    {
     "data": {
      "text/plain": [
       "(4, 1)"
      ]
     },
     "execution_count": 42,
     "metadata": {},
     "output_type": "execute_result"
    }
   ],
   "source": [
    "def f1(func):\n",
    "    def wrapper(c, b=9):\n",
    "        print(\"before\")\n",
    "        value = func(4)\n",
    "        print(c)\n",
    "        print(b)\n",
    "        print(\"after\")\n",
    "        return value\n",
    "    return wrapper\n",
    "\n",
    "@f1\n",
    "def f(a,b=7):\n",
    "    print(a,b)\n",
    "\n",
    "@f1\n",
    "def add(x = 0,y = 1):\n",
    "    return x,y\n",
    "\n",
    "add(3)"
   ]
  },
  {
   "cell_type": "code",
   "execution_count": null,
   "metadata": {},
   "outputs": [],
   "source": []
  }
 ],
 "metadata": {
  "kernelspec": {
   "display_name": "Python 3.10.4 ('venv': venv)",
   "language": "python",
   "name": "python3"
  },
  "language_info": {
   "codemirror_mode": {
    "name": "ipython",
    "version": 3
   },
   "file_extension": ".py",
   "mimetype": "text/x-python",
   "name": "python",
   "nbconvert_exporter": "python",
   "pygments_lexer": "ipython3",
   "version": "3.10.4"
  },
  "orig_nbformat": 4,
  "vscode": {
   "interpreter": {
    "hash": "b8ea13c29878e4a39435767f327177de9f64ae4002c06647ef3edc6b87ba1eab"
   }
  }
 },
 "nbformat": 4,
 "nbformat_minor": 2
}
