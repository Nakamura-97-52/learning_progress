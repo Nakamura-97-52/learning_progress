{
 "cells": [
  {
   "cell_type": "code",
   "execution_count": 29,
   "metadata": {},
   "outputs": [
    {
     "name": "stdout",
     "output_type": "stream",
     "text": [
      "['rock', 'sissers']\n",
      "['paper']\n"
     ]
    }
   ],
   "source": [
    "import itertools\n",
    "\n",
    "# counter = itertools.count(start=10000, step=2000)\n",
    "\n",
    "# print(next(counter))\n",
    "# print(next(counter))\n",
    "\n",
    "# print(list(range(3)))\n",
    "\n",
    "# print(list(zip(list(range(3)),counter)))\n",
    "\n",
    "# cycler = itertools.cycle([\"go\",\"back\"])\n",
    "\n",
    "# print(next(cycler))\n",
    "# print(next(cycler))\n",
    "\n",
    "\n",
    "# square = [i for i in map(pow,range(10),itertools.repeat(3))]\n",
    "# print(square)\n",
    "\n",
    "# title = [i for i in itertools.starmap(pow, [(4,2),(5,3)])]\n",
    "# print(title)\n",
    "\n",
    "rock_paper_sissers = [\"rock\",\"paper\",\"sissers\"]\n",
    "\n",
    "# patterns = [i for i in itertools.product(rock_paper_sissers,repeat=3)]\n",
    "# print(patterns)\n",
    "\n",
    "# combined = [i for i in itertools.chain(rock_paper_sissers,range(5))]\n",
    "# sliced = [i for i in itertools.islice(combined,3)]\n",
    "\n",
    "# print(sliced)\n",
    "\n",
    "wo_paper = [i for i in filter(lambda x: True if x==\"rock\"or x==\"sissers\" else False,rock_paper_sissers)]\n",
    "print(wo_paper)\n",
    "\n",
    "wo_paper = [i for i in itertools.filterfalse(lambda x: True if x==\"rock\"or x==\"sissers\" else False,rock_paper_sissers)]\n",
    "print(wo_paper)"
   ]
  },
  {
   "cell_type": "code",
   "execution_count": null,
   "metadata": {},
   "outputs": [],
   "source": []
  }
 ],
 "metadata": {
  "kernelspec": {
   "display_name": "Python 3.10.4 64-bit",
   "language": "python",
   "name": "python3"
  },
  "language_info": {
   "codemirror_mode": {
    "name": "ipython",
    "version": 3
   },
   "file_extension": ".py",
   "mimetype": "text/x-python",
   "name": "python",
   "nbconvert_exporter": "python",
   "pygments_lexer": "ipython3",
   "version": "3.10.4"
  },
  "orig_nbformat": 4,
  "vscode": {
   "interpreter": {
    "hash": "9b37799975929a9e2f23299eccc33fc29d15f5215ebc0a5646ca1190df7c49a4"
   }
  }
 },
 "nbformat": 4,
 "nbformat_minor": 2
}
