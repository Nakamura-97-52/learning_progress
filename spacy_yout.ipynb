
import spacy

nlp = spacy.load('en_core_web_sm')

with open('data/wiki_us.txt', "r", encoding='utf-8') as f:
    text = f.read()

doc = nlp(text)

# print(len(text))
# print(len(doc))


# # for sent in doc.sents:
# #     print(sent)
    
# print(list(doc.sents)[0])

# for e in doc.ents:
#     print(e.text, e.label_)

from spacy import displacy

displacy.render(doc, style='ent')