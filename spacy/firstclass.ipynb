{
 "cells": [
  {
   "cell_type": "code",
   "execution_count": 2,
   "metadata": {},
   "outputs": [
    {
     "data": {
      "text/plain": [
       "[1, 4, 9]"
      ]
     },
     "execution_count": 2,
     "metadata": {},
     "output_type": "execute_result"
    }
   ],
   "source": [
    "def square(x):\n",
    "    return x*x\n",
    "\n",
    "def map(equ, lis):\n",
    "    result = []\n",
    "    for i in lis:\n",
    "        result.append(equ(i))\n",
    "    return result\n",
    "\n",
    "number = [1,2,3]\n",
    "map(square, number)"
   ]
  },
  {
   "cell_type": "markdown",
   "metadata": {},
   "source": [
    "return function\n",
    "use for return value fixed"
   ]
  },
  {
   "cell_type": "code",
   "execution_count": 9,
   "metadata": {},
   "outputs": [],
   "source": [
    "def base(x):\n",
    "    x = x\n",
    "    \n",
    "    def branch(y):\n",
    "        y = y\n",
    "        print(x+y)\n",
    "        \n",
    "    return branch\n",
    "        \n",
    "br = base('藤原')\n",
    "print(br(\"kyouta\"))"
   ]
  },
  {
   "cell_type": "code",
   "execution_count": 14,
   "metadata": {},
   "outputs": [
    {
     "name": "stdout",
     "output_type": "stream",
     "text": [
      "name =user_1 password= secret\n"
     ]
    }
   ],
   "source": [
    "def password(user_pass):\n",
    "    \n",
    "    def name(user_name):\n",
    "        u_n = user_name\n",
    "        u_p =user_pass\n",
    "        print(f\"\"\"name ={user_name} password= {user_pass}\"\"\")\n",
    "    return name\n",
    "    \n",
    "n =password(\"secret\")\n",
    "n(\"user_1\")\n"
   ]
  },
  {
   "cell_type": "markdown",
   "metadata": {},
   "source": []
  },
  {
   "cell_type": "code",
   "execution_count": null,
   "metadata": {},
   "outputs": [],
   "source": []
  },
  {
   "cell_type": "markdown",
   "metadata": {},
   "source": []
  },
  {
   "cell_type": "markdown",
   "metadata": {},
   "source": []
  }
 ],
 "metadata": {
  "kernelspec": {
   "display_name": "Python 3.10.4 ('venv': venv)",
   "language": "python",
   "name": "python3"
  },
  "language_info": {
   "codemirror_mode": {
    "name": "ipython",
    "version": 3
   },
   "file_extension": ".py",
   "mimetype": "text/x-python",
   "name": "python",
   "nbconvert_exporter": "python",
   "pygments_lexer": "ipython3",
   "version": "3.10.4"
  },
  "orig_nbformat": 4,
  "vscode": {
   "interpreter": {
    "hash": "b8ea13c29878e4a39435767f327177de9f64ae4002c06647ef3edc6b87ba1eab"
   }
  }
 },
 "nbformat": 4,
 "nbformat_minor": 2
}
