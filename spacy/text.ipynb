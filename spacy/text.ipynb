{
 "cells": [
  {
   "cell_type": "code",
   "execution_count": 5,
   "metadata": {},
   "outputs": [
    {
     "name": "stdout",
     "output_type": "stream",
     "text": [
      "before\n"
     ]
    },
    {
     "ename": "NameError",
     "evalue": "name 'func' is not defined",
     "output_type": "error",
     "traceback": [
      "\u001b[1;31m---------------------------------------------------------------------------\u001b[0m",
      "\u001b[1;31mNameError\u001b[0m                                 Traceback (most recent call last)",
      "\u001b[1;32mc:\\Users\\ryona\\projects\\learn_spacy\\text.ipynb Cell 1'\u001b[0m in \u001b[0;36m<cell line: 6>\u001b[1;34m()\u001b[0m\n\u001b[0;32m      <a href='vscode-notebook-cell:/c%3A/Users/ryona/projects/learn_spacy/text.ipynb#ch0000000?line=2'>3</a>\u001b[0m     func()\n\u001b[0;32m      <a href='vscode-notebook-cell:/c%3A/Users/ryona/projects/learn_spacy/text.ipynb#ch0000000?line=3'>4</a>\u001b[0m     \u001b[39mprint\u001b[39m(\u001b[39m\"\u001b[39m\u001b[39mafter\u001b[39m\u001b[39m\"\u001b[39m)\n\u001b[1;32m----> <a href='vscode-notebook-cell:/c%3A/Users/ryona/projects/learn_spacy/text.ipynb#ch0000000?line=5'>6</a>\u001b[0m wrapper(\u001b[39m3\u001b[39;49m,\u001b[39m4\u001b[39;49m)\n",
      "\u001b[1;32mc:\\Users\\ryona\\projects\\learn_spacy\\text.ipynb Cell 1'\u001b[0m in \u001b[0;36mwrapper\u001b[1;34m(a, b)\u001b[0m\n\u001b[0;32m      <a href='vscode-notebook-cell:/c%3A/Users/ryona/projects/learn_spacy/text.ipynb#ch0000000?line=0'>1</a>\u001b[0m \u001b[39mdef\u001b[39;00m \u001b[39mwrapper\u001b[39m(a, b\u001b[39m=\u001b[39m\u001b[39m8\u001b[39m):\n\u001b[0;32m      <a href='vscode-notebook-cell:/c%3A/Users/ryona/projects/learn_spacy/text.ipynb#ch0000000?line=1'>2</a>\u001b[0m     \u001b[39mprint\u001b[39m(\u001b[39m\"\u001b[39m\u001b[39mbefore\u001b[39m\u001b[39m\"\u001b[39m)\n\u001b[1;32m----> <a href='vscode-notebook-cell:/c%3A/Users/ryona/projects/learn_spacy/text.ipynb#ch0000000?line=2'>3</a>\u001b[0m     func()\n\u001b[0;32m      <a href='vscode-notebook-cell:/c%3A/Users/ryona/projects/learn_spacy/text.ipynb#ch0000000?line=3'>4</a>\u001b[0m     \u001b[39mprint\u001b[39m(\u001b[39m\"\u001b[39m\u001b[39mafter\u001b[39m\u001b[39m\"\u001b[39m)\n",
      "\u001b[1;31mNameError\u001b[0m: name 'func' is not defined"
     ]
    }
   ],
   "source": [
    "    def wrapper(a, b=8):\n",
    "        print(\"before\")\n",
    "        func()\n",
    "        print(\"after\")\n",
    "        \n",
    "    def func()\n",
    "    wrapper(3,4)\n"
   ]
  },
  {
   "cell_type": "code",
   "execution_count": null,
   "metadata": {},
   "outputs": [],
   "source": []
  }
 ],
 "metadata": {
  "kernelspec": {
   "display_name": "Python 3.10.4 ('venv': venv)",
   "language": "python",
   "name": "python3"
  },
  "language_info": {
   "codemirror_mode": {
    "name": "ipython",
    "version": 3
   },
   "file_extension": ".py",
   "mimetype": "text/x-python",
   "name": "python",
   "nbconvert_exporter": "python",
   "pygments_lexer": "ipython3",
   "version": "3.10.4"
  },
  "orig_nbformat": 4,
  "vscode": {
   "interpreter": {
    "hash": "b8ea13c29878e4a39435767f327177de9f64ae4002c06647ef3edc6b87ba1eab"
   }
  }
 },
 "nbformat": 4,
 "nbformat_minor": 2
}
